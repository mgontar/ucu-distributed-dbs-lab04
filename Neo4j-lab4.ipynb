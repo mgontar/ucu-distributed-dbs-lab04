{
 "cells": [
  {
   "cell_type": "code",
   "execution_count": 15,
   "metadata": {
    "collapsed": true
   },
   "outputs": [],
   "source": [
    "import pandas as pd\n",
    "import numpy as np\n",
    "from neo4j.v1 import GraphDatabase"
   ]
  },
  {
   "cell_type": "code",
   "execution_count": null,
   "metadata": {
    "collapsed": false
   },
   "outputs": [],
   "source": [
    "driver = GraphDatabase.driver(\"bolt://52.23.222.222:33173/db/data/\", \n",
    "                              auth=(\"neo4j\", \"afternoon-buffer-crusts\"))"
   ]
  },
  {
   "cell_type": "code",
   "execution_count": 14,
   "metadata": {
    "collapsed": false
   },
   "outputs": [],
   "source": [
    "def add_customer(tx, customer_id, first_name, last_name):\n",
    "    tx.run(\"CREATE (a:Customer {id: $customer_id, first_name: $first_name, last_name: $last_name})\",\n",
    "           customer_id=customer_id, first_name=first_name, last_name=last_name)"
   ]
  },
  {
   "cell_type": "code",
   "execution_count": 21,
   "metadata": {
    "collapsed": true
   },
   "outputs": [],
   "source": [
    "def add_item(tx, item_id, title, price):\n",
    "    tx.run(\"CREATE (a:Item {id: $item_id, title: $title, price: $price})\",\n",
    "           item_id=item_id, title=title, price=price)"
   ]
  },
  {
   "cell_type": "code",
   "execution_count": 42,
   "metadata": {
    "collapsed": true
   },
   "outputs": [],
   "source": [
    "def add_order(tx, order_id, customer_id):\n",
    "    tx.run(\"CREATE (order:Order {id: $order_id})\",\n",
    "           order_id=order_id)\n",
    "    tx.run(\"MATCH (buyer:Customer),(order:Order)\"\n",
    "           \"WHERE buyer.id = $customer_id AND order.id = $order_id \"\n",
    "           \"CREATE (buyer)-[:MADE]->(order)\",\n",
    "           order_id=order_id, customer_id=customer_id)"
   ]
  },
  {
   "cell_type": "code",
   "execution_count": 50,
   "metadata": {
    "collapsed": true
   },
   "outputs": [],
   "source": [
    "def add_order_item(tx, order_id, item_id):\n",
    "        tx.run(\"MATCH (item:Item),(order:Order)\"\n",
    "           \"WHERE item.id = $item_id AND order.id = $order_id \"\n",
    "           \"CREATE (order)-[:CONTAINS]->(item)\",\n",
    "           order_id=order_id, item_id=item_id)"
   ]
  },
  {
   "cell_type": "code",
   "execution_count": 55,
   "metadata": {
    "collapsed": true
   },
   "outputs": [],
   "source": [
    "def add_view_item(tx, customer_id, item_id, times_count):\n",
    "        tx.run(\"MATCH (i:Item), (c:Customer)\"\n",
    "           \"WHERE i.id = $item_id AND c.id = $customer_id \"\n",
    "           \"CREATE (c)-[:VIEWED{times:$times_count}]->(i)\",\n",
    "           customer_id=customer_id, item_id=item_id, times_count=times_count)"
   ]
  },
  {
   "cell_type": "code",
   "execution_count": 23,
   "metadata": {
    "collapsed": true
   },
   "outputs": [],
   "source": [
    "df_customers = pd.read_csv('customers.csv')\n",
    "df_items = pd.read_csv('items.csv')\n",
    "df_orders = pd.read_csv('orders.csv')\n",
    "df_orders_detail = pd.read_csv('order_details.csv')\n",
    "df_items_viewed = pd.read_csv('items_viewed.csv')"
   ]
  },
  {
   "cell_type": "code",
   "execution_count": 48,
   "metadata": {
    "collapsed": false
   },
   "outputs": [],
   "source": [
    "for index_item, row_item in df_items.iterrows():\n",
    "    item_id = row_item[\"id\"]\n",
    "    title = row_item[\"title\"]\n",
    "    price = row_item[\"price\"]\n",
    "    with driver.session() as session:\n",
    "        session.write_transaction(add_item, item_id, title, price)"
   ]
  },
  {
   "cell_type": "code",
   "execution_count": 34,
   "metadata": {
    "collapsed": false
   },
   "outputs": [],
   "source": [
    "for index_customer, row_customer in df_customers.iterrows():\n",
    "    customer_id = row_customer[\"id\"]\n",
    "    first_name = row_customer[\"first_name\"]\n",
    "    last_name = row_customer[\"last_name\"]\n",
    "    with driver.session() as session:\n",
    "        session.write_transaction(add_customer, customer_id, first_name, last_name)"
   ]
  },
  {
   "cell_type": "code",
   "execution_count": 41,
   "metadata": {
    "collapsed": false
   },
   "outputs": [],
   "source": [
    "for index_order, row_order in df_orders.iterrows():\n",
    "    order_id = row_order[\"id\"]\n",
    "    customer_id = row_order[\"customer_id\"]\n",
    "    with driver.session() as session:\n",
    "        session.write_transaction(add_order, order_id, customer_id)"
   ]
  },
  {
   "cell_type": "code",
   "execution_count": 56,
   "metadata": {
    "collapsed": false
   },
   "outputs": [],
   "source": [
    "for index_item_view, row_item_view in df_items_viewed.iterrows():\n",
    "    customer_id = int(row_item_view[\"customer_id\"])\n",
    "    item_id = int(row_item_view[\"item_id\"])\n",
    "    times_count = int(row_item_view[\"times_count\"])\n",
    "    with driver.session() as session:\n",
    "        session.write_transaction(add_view_item, customer_id, item_id, times_count)"
   ]
  },
  {
   "cell_type": "code",
   "execution_count": null,
   "metadata": {
    "collapsed": true
   },
   "outputs": [],
   "source": [
    "for index_order_item, row_order_item in df_orders_detail.iterrows():\n",
    "    order_id = int(row_order_item[\"order_id\"])\n",
    "    item_id = int(row_order_item[\"item_id\"])\n",
    "    with driver.session() as session:\n",
    "        session.write_transaction(add_order_item, order_id, item_id)"
   ]
  },
  {
   "cell_type": "code",
   "execution_count": null,
   "metadata": {
    "collapsed": true
   },
   "outputs": [],
   "source": [
    "def add_friends(tx, name, friend_name):\n",
    "    tx.run(\"MERGE (a:Person {name: $name}) \"\n",
    "           \"MERGE (a)-[:KNOWS]->(friend:Person {name: $friend_name})\",\n",
    "           name=name, friend_name=friend_name)"
   ]
  },
  {
   "cell_type": "code",
   "execution_count": null,
   "metadata": {
    "collapsed": true
   },
   "outputs": [],
   "source": [
    "def print_friends(tx, name):\n",
    "    for record in tx.run(\"MATCH (a:Person)-[:KNOWS]->(friend) WHERE a.name = $name \"\n",
    "                         \"RETURN friend.name ORDER BY friend.name\", name=name):\n",
    "        print(record[\"friend.name\"])"
   ]
  },
  {
   "cell_type": "code",
   "execution_count": null,
   "metadata": {
    "collapsed": true
   },
   "outputs": [],
   "source": [
    "def clear_db(tx):\n",
    "    tx.run(\"MATCH (n) \"\n",
    "           \"DETACH DELETE n\")"
   ]
  },
  {
   "cell_type": "code",
   "execution_count": null,
   "metadata": {
    "collapsed": false
   },
   "outputs": [],
   "source": [
    "with driver.session() as session:\n",
    "    session.write_transaction(add_friends, \"Arthur\", \"Guinevere\")\n",
    "    session.write_transaction(add_friends, \"Arthur\", \"Lancelot\")\n",
    "    session.write_transaction(add_friends, \"Arthur\", \"Merlin\")\n",
    "    session.read_transaction(print_friends, \"Arthur\")"
   ]
  },
  {
   "cell_type": "code",
   "execution_count": 33,
   "metadata": {
    "collapsed": true
   },
   "outputs": [],
   "source": [
    "with driver.session() as session:\n",
    "    session.write_transaction(clear_db)"
   ]
  }
 ],
 "metadata": {
  "kernelspec": {
   "display_name": "Python 3",
   "language": "python",
   "name": "python3"
  },
  "language_info": {
   "codemirror_mode": {
    "name": "ipython",
    "version": 3
   },
   "file_extension": ".py",
   "mimetype": "text/x-python",
   "name": "python",
   "nbconvert_exporter": "python",
   "pygments_lexer": "ipython3",
   "version": "3.6.0"
  }
 },
 "nbformat": 4,
 "nbformat_minor": 2
}
