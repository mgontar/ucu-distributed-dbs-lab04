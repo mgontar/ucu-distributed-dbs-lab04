{
 "cells": [
  {
   "cell_type": "code",
   "execution_count": 6,
   "metadata": {
    "collapsed": false
   },
   "outputs": [
    {
     "name": "stdout",
     "output_type": "stream",
     "text": [
      "0\n"
     ]
    }
   ],
   "source": [
    "import pandas as pd\n",
    "import numpy as np\n",
    "import random"
   ]
  },
  {
   "cell_type": "code",
   "execution_count": null,
   "metadata": {
    "collapsed": false
   },
   "outputs": [],
   "source": [
    "df_customers = pd.read_csv('customers.csv')"
   ]
  },
  {
   "cell_type": "code",
   "execution_count": null,
   "metadata": {
    "collapsed": false
   },
   "outputs": [],
   "source": [
    "df_items = pd.read_csv('items.csv')"
   ]
  },
  {
   "cell_type": "code",
   "execution_count": 119,
   "metadata": {
    "collapsed": false
   },
   "outputs": [],
   "source": [
    "orders_dict = {}\n",
    "viewed_dict = {}\n",
    "\n",
    "for i in range(1, 101):    \n",
    "    customer_id = random.randint(1,len(df_customers))\n",
    "    viewed_items_dict = {}\n",
    "    if customer_id in viewed_dict:\n",
    "        viewed_items_dict = viewed_dict[customer_id]\n",
    "    make_order = random.randint(0,10) < 1\n",
    "    if(make_order):\n",
    "        order_items_dict = {}\n",
    "        if customer_id in orders_dict:\n",
    "            order_items_dict = orders_dict[customer_id]\n",
    "        for j in range(1, random.randint(2,6)):\n",
    "            item_id = random.randint(1,len(df_items))\n",
    "            if item_id not in order_items_dict:\n",
    "                order_items_dict[item_id] = 1\n",
    "            else:\n",
    "                order_items_dict[item_id] += 1\n",
    "            if item_id not in viewed_items_dict:\n",
    "                viewed_items_dict[item_id] = 1\n",
    "            else:\n",
    "                viewed_items_dict[item_id] += 1\n",
    "        orders_dict[customer_id] = order_items_dict\n",
    "\n",
    "    else:\n",
    "        for j in range(1, random.randint(2,6)):\n",
    "            item_id = random.randint(1,len(df_items))\n",
    "            if item_id not in viewed_items_dict:\n",
    "                viewed_items_dict[item_id] = 1\n",
    "            else:\n",
    "                viewed_items_dict[item_id] += 1\n",
    "    viewed_dict[customer_id] = viewed_items_dict\n",
    "\n",
    "orders_list = []\n",
    "order_id = 1\n",
    "orders_detail_list = []\n",
    "order_detail_id = 1\n",
    "for customer_id in orders_dict:\n",
    "    items_dict = orders_dict[customer_id]\n",
    "    order_cost = 0\n",
    "    for item_id in items_dict:\n",
    "        items_count = items_dict[item_id]\n",
    "        order_cost += df_items[df_items.id == item_id].price.values[0]*items_count        \n",
    "        orders_detail_list.append({\"id\":order_detail_id, \"order_id\":order_id, \"item_id\":item_id, \"items_count\":items_count})\n",
    "        order_detail_id += 1\n",
    "    orders_list.append({\"id\":order_id, \"customer_id\":customer_id, \"order_cost\":round(order_cost,1)})\n",
    "    order_id += 1\n",
    "        \n",
    "df_orders = pd.DataFrame(orders_list)\n",
    "df_orders = df_orders[['id', 'customer_id', 'order_cost']]\n",
    "df_orders.to_csv('orders.csv', index=False, encoding='utf-8')\n",
    "\n",
    "df_orders_detail = pd.DataFrame(orders_detail_list)\n",
    "df_orders_detail = df_orders_detail[['id', 'order_id', 'item_id', 'items_count']]\n",
    "df_orders_detail.to_csv('order_details.csv', index=False, encoding='utf-8')\n",
    "\n",
    "viewed_list = []\n",
    "for customer_id in viewed_dict:\n",
    "    viewed_items_dict = viewed_dict[customer_id]\n",
    "    for item_id in viewed_items_dict:\n",
    "        times_count = viewed_items_dict[item_id]\n",
    "        viewed_list.append({\"customer_id\":customer_id, \"item_id\":item_id, \"times_count\":times_count})\n",
    "        \n",
    "df_items_viewed = pd.DataFrame(viewed_list)\n",
    "df_items_viewed = df_items_viewed[['customer_id', 'item_id', 'times_count']]\n",
    "df_items_viewed.to_csv('items_viewed.csv', index=False, encoding='utf-8')"
   ]
  }
 ],
 "metadata": {
  "kernelspec": {
   "display_name": "Python 3",
   "language": "python",
   "name": "python3"
  },
  "language_info": {
   "codemirror_mode": {
    "name": "ipython",
    "version": 3
   },
   "file_extension": ".py",
   "mimetype": "text/x-python",
   "name": "python",
   "nbconvert_exporter": "python",
   "pygments_lexer": "ipython3",
   "version": "3.6.0"
  }
 },
 "nbformat": 4,
 "nbformat_minor": 2
}
